{
 "cells": [
  {
   "cell_type": "code",
   "execution_count": 4,
   "metadata": {
    "run_control": {
     "frozen": false,
     "read_only": false
    }
   },
   "outputs": [],
   "source": [
    "%%capture\n",
    "from __future__ import division\n",
    "import numpy as np\n",
    "import pandas as pd\n",
    "import scipy.stats as st\n",
    "from collections import Counter, defaultdict\n",
    "%load_ext autoreload\n",
    "\n",
    "import matplotlib as mpl\n",
    "mpl.use(\"Agg\")\n",
    "import matplotlib.pylab as plt\n",
    "%matplotlib inline\n",
    "plt.rcParams['figure.figsize'] = (20.0, 10.0)\n",
    "\n",
    "import re\n",
    "from copy import deepcopy\n",
    "import json\n",
    "from tqdm import tqdm\n",
    "from boto.mturk.qualification import PercentAssignmentsApprovedRequirement, Qualifications, Requirement\n",
    "\n",
    "from mturk_utils.mturk import pickle_this, unpickle_this"
   ]
  },
  {
   "cell_type": "markdown",
   "metadata": {},
   "source": [
    "# load and basic processing"
   ]
  },
  {
   "cell_type": "code",
   "execution_count": 16,
   "metadata": {
    "code_folding": [],
    "run_control": {
     "frozen": false,
     "read_only": false
    }
   },
   "outputs": [],
   "source": [
    "def create_result(assmt):\n",
    "    result = {}\n",
    "    raw_result = json.loads(assmt.answers[0][0].fields[0])\n",
    "    result['image_id'] = raw_result['image_url']\n",
    "    result['object_words_raw'] = sorted([w.replace('None', 'None_0_0') for w in raw_result['description']], key=lambda x: ''.join(x.split('_')[1:]))\n",
    "    obj_words = [word.split('_')[0] for word in result['object_words_raw']]\n",
    "    obj_word_location = [word.split('_')[1:] for word in result['object_words_raw']]\n",
    "    result['object_words'] = obj_words\n",
    "    result['object_locs'] = obj_word_location\n",
    "    result['asgmt_id'] = assmt.AssignmentId\n",
    "    result['hit_id'] = assmt.HITId\n",
    "    result['worker_id'] = assmt.WorkerId\n",
    "    return result"
   ]
  },
  {
   "cell_type": "code",
   "execution_count": 17,
   "metadata": {
    "run_control": {
     "frozen": false,
     "read_only": false
    }
   },
   "outputs": [],
   "source": [
    "turk_data = unpickle_this('/Users/schwenk/wrk/animation_gan/turk_annotation_task/stage_4/pickled_data/additional_batch_1_4a_update_10_20.pkl')"
   ]
  },
  {
   "cell_type": "code",
   "execution_count": 42,
   "metadata": {
    "run_control": {
     "frozen": false,
     "read_only": false
    }
   },
   "outputs": [],
   "source": [
    "assignments = [item for sublist in turk_data.values() for item in sublist]\n",
    "assignment_results = [create_result(ar) for ar in assignments]"
   ]
  },
  {
   "cell_type": "markdown",
   "metadata": {},
   "source": [
    "# analysis"
   ]
  },
  {
   "cell_type": "code",
   "execution_count": 49,
   "metadata": {
    "code_folding": [],
    "run_control": {
     "frozen": false,
     "read_only": false
    }
   },
   "outputs": [],
   "source": [
    "def overlap(row):\n",
    "    for idx in range(row.shape[0]):\n",
    "        if row[idx] == None:\n",
    "            row[idx] = set([])\n",
    "    try:\n",
    "        return list(row[0].intersection(row[1]).union(row[1].intersection(row[2])).union(row[0].intersection(row[2])))\n",
    "    except TypeError:\n",
    "        return {}\n",
    "\n",
    "def distill_objects(obj_idx_list):\n",
    "    combined_objects = []\n",
    "    object_coords = []\n",
    "    \n",
    "    for word_position in obj_idx_list:\n",
    "        split_components = word_position.split('_')\n",
    "        word, sent_n, word_n = split_components[0], int(split_components[1]), int(split_components[2])\n",
    "        object_coords.append((word, sent_n, word_n))\n",
    "    object_coords = sorted(object_coords, key= lambda x: (x[1], x[2]))\n",
    "    combined_objects.append(object_coords[0])\n",
    "    \n",
    "    for idx in range(1, len(object_coords)):\n",
    "        this_word, this_sent, this_wn = object_coords[idx]\n",
    "        last_word, last_sent, last_wn = combined_objects[-1]\n",
    "        if this_sent == last_sent and last_wn + 1 == this_wn:            \n",
    "            combined_objects[-1] = (' '.join([last_word, this_word]), this_sent, this_wn)\n",
    "        else:\n",
    "            combined_objects.append((this_word, this_sent, this_wn))\n",
    "    return [w[1:] for w in combined_objects], [w[0] for w in combined_objects]"
   ]
  },
  {
   "cell_type": "code",
   "execution_count": 44,
   "metadata": {
    "run_control": {
     "frozen": false,
     "read_only": false
    }
   },
   "outputs": [],
   "source": [
    "st4_df = pd.DataFrame(assignment_results)\n",
    "st4_df['obj_set'] = st4_df['object_words_raw'].apply(lambda x: set(x))\n",
    "grouped_by_image = st4_df.groupby('image_id')\n",
    "agged_on_mode = grouped_by_image.agg(lambda x: st.mode(x))\n",
    "agged_on_mode['mode_count'] = agged_on_mode['obj_set'].apply(lambda x: x[1][0])\n",
    "cons_df = agged_on_mode[agged_on_mode['mode_count'].isin([2, 3])]\n",
    "cons_df['image_id'] = cons_df.index"
   ]
  },
  {
   "cell_type": "code",
   "execution_count": 45,
   "metadata": {
    "run_control": {
     "frozen": false,
     "read_only": false
    }
   },
   "outputs": [],
   "source": [
    "noncon_df = agged_on_mode[agged_on_mode['mode_count'].isin([1])]\n",
    "noncon_vids = set(noncon_df.index.tolist())"
   ]
  },
  {
   "cell_type": "code",
   "execution_count": 46,
   "metadata": {
    "run_control": {
     "frozen": false,
     "read_only": false
    }
   },
   "outputs": [],
   "source": [
    "cons_df['con_objects'] = cons_df['obj_set'].apply(lambda x: sorted(list(x[0][0]), key=lambda x: (x.split('_')[1], x.split('_')[2] )))\n",
    "noncon_df = st4_df[st4_df['image_id'].isin(noncon_vids)]\n",
    "temp_grouped_by_image = noncon_df.groupby('image_id')"
   ]
  },
  {
   "cell_type": "code",
   "execution_count": 47,
   "metadata": {
    "run_control": {
     "frozen": false,
     "read_only": false
    }
   },
   "outputs": [],
   "source": [
    "noncon_grouped = temp_grouped_by_image['obj_set'].apply(lambda x: pd.Series(x.values)).unstack()\n",
    "noncon_subsets_choices = noncon_grouped.apply(lambda x: overlap(x), axis=1)\n",
    "noncon_lookup = noncon_subsets_choices.to_dict()\n",
    "con_lookup = cons_df['con_objects'].to_dict()\n",
    "combined_lookup = {**con_lookup, **noncon_lookup}"
   ]
  },
  {
   "cell_type": "code",
   "execution_count": 50,
   "metadata": {
    "run_control": {
     "frozen": false,
     "read_only": false
    },
    "scrolled": true
   },
   "outputs": [],
   "source": [
    "object_data = {}\n",
    "for vid, cld in combined_lookup.items():\n",
    "    spans, object_decriptors =  distill_objects(cld)\n",
    "    object_data[vid] = {\n",
    "        'spans': spans,\n",
    "        'descriptors': object_decriptors\n",
    "    }"
   ]
  },
  {
   "cell_type": "code",
   "execution_count": 51,
   "metadata": {
    "run_control": {
     "frozen": false,
     "read_only": false
    }
   },
   "outputs": [],
   "source": [
    "pickle_this(object_data, 'batch_res.pkl')"
   ]
  },
  {
   "cell_type": "code",
   "execution_count": null,
   "metadata": {},
   "outputs": [],
   "source": []
  }
 ],
 "metadata": {
  "kernelspec": {
   "display_name": "Python 3",
   "language": "python",
   "name": "python3"
  },
  "language_info": {
   "codemirror_mode": {
    "name": "ipython",
    "version": 3
   },
   "file_extension": ".py",
   "mimetype": "text/x-python",
   "name": "python",
   "nbconvert_exporter": "python",
   "pygments_lexer": "ipython3",
   "version": "3.6.3"
  }
 },
 "nbformat": 4,
 "nbformat_minor": 1
}
